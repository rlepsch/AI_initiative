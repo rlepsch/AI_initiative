{
    "nbformat_minor": 1, 
    "cells": [
        {
            "source": "# Projeto **INTELEGIS**", 
            "cell_type": "markdown", 
            "metadata": {
                "collapsed": true
            }
        }, 
        {
            "source": "Estou usando como base o tutorial apresentado no artigo BUILDING YOU FIRST MACHINE LEARNING SYSTEM por Mark Watson : \nhttps://medium.com/ibm-watson-data-lab/building-your-first-machine-learning-system-b3d9401927b7\n        ", 
            "cell_type": "markdown", 
            "metadata": {}
        }, 
        {
            "execution_count": null, 
            "cell_type": "code", 
            "metadata": {}, 
            "outputs": [], 
            "source": ""
        }
    ], 
    "metadata": {
        "kernelspec": {
            "display_name": "Python 3.5", 
            "name": "python3", 
            "language": "python"
        }, 
        "language_info": {
            "mimetype": "text/x-python", 
            "nbconvert_exporter": "python", 
            "version": "3.5.4", 
            "name": "python", 
            "file_extension": ".py", 
            "pygments_lexer": "ipython3", 
            "codemirror_mode": {
                "version": 3, 
                "name": "ipython"
            }
        }
    }, 
    "nbformat": 4
}