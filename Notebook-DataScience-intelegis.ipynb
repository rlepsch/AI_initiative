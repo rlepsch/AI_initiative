{
    "nbformat_minor": 1, 
    "cells": [
        {
            "source": "# Projeto **INTELEGIS** - Reinaldo Lepsch Neto", 
            "cell_type": "markdown", 
            "metadata": {
                "collapsed": true
            }
        }, 
        {
            "source": "Neste primeiro momento, este notebook ir\u00e1 conter somente testes e explora\u00e7\u00f5es da ferramenta e da linguagem. Ser\u00e1 a ponte com os cursos de Deep Learning e Data Science que estou realizando, que tamb\u00e9m est\u00e3o sendo feitos em notebook. Este notebook e os demais ficar\u00e3o sempre integrados com o github.", 
            "cell_type": "markdown", 
            "metadata": {}
        }, 
        {
            "execution_count": 9, 
            "cell_type": "code", 
            "metadata": {}, 
            "outputs": [], 
            "source": "# The code was removed by DSX for sharing."
        }, 
        {
            "source": "Estou usando como base o tutorial apresentado no artigo BUILDING YOU FIRST MACHINE LEARNING SYSTEM por Mark Watson : \nhttps://medium.com/ibm-watson-data-lab/building-your-first-machine-learning-system-b3d9401927b7\n        ", 
            "cell_type": "markdown", 
            "metadata": {}
        }, 
        {
            "execution_count": 10, 
            "cell_type": "code", 
            "metadata": {}, 
            "outputs": [
                {
                    "execution_count": 10, 
                    "metadata": {}, 
                    "data": {
                        "text/html": "<div>\n<style scoped>\n    .dataframe tbody tr th:only-of-type {\n        vertical-align: middle;\n    }\n\n    .dataframe tbody tr th {\n        vertical-align: top;\n    }\n\n    .dataframe thead th {\n        text-align: right;\n    }\n</style>\n<table border=\"1\" class=\"dataframe\">\n  <thead>\n    <tr style=\"text-align: right;\">\n      <th></th>\n      <th>ID</th>\n      <th>TEXTO</th>\n      <th>LINK</th>\n      <th>ATR1</th>\n      <th>ATR2</th>\n      <th>ATR3</th>\n      <th>ATR4</th>\n      <th>ATR5</th>\n      <th>ATR6</th>\n      <th>ATR7</th>\n      <th>ATR8</th>\n      <th>ATR9</th>\n      <th>ATR10</th>\n      <th>LABEL</th>\n    </tr>\n  </thead>\n  <tbody>\n    <tr>\n      <th>0</th>\n      <td>1</td>\n      <td>texto aleat\u00f3rio processo n\u00famero 0504 de 25/07/...</td>\n      <td>http://www.justica.jus.br/procno0504</td>\n      <td>2</td>\n      <td>1</td>\n      <td>2</td>\n      <td>1</td>\n      <td>3</td>\n      <td>1</td>\n      <td>1</td>\n      <td>2</td>\n      <td>0</td>\n      <td>2</td>\n      <td>4</td>\n    </tr>\n    <tr>\n      <th>1</th>\n      <td>2</td>\n      <td>texto aleat\u00f3rio processo n\u00famero 0518 de 02/01/...</td>\n      <td>http://www.justica.jus.br/procno0518</td>\n      <td>0</td>\n      <td>1</td>\n      <td>0</td>\n      <td>1</td>\n      <td>2</td>\n      <td>3</td>\n      <td>0</td>\n      <td>3</td>\n      <td>3</td>\n      <td>2</td>\n      <td>4</td>\n    </tr>\n    <tr>\n      <th>2</th>\n      <td>3</td>\n      <td>texto aleat\u00f3rio processo n\u00famero 0258 de 22/09/...</td>\n      <td>http://www.justica.jus.br/procno0258</td>\n      <td>0</td>\n      <td>2</td>\n      <td>3</td>\n      <td>0</td>\n      <td>1</td>\n      <td>2</td>\n      <td>3</td>\n      <td>0</td>\n      <td>1</td>\n      <td>3</td>\n      <td>1</td>\n    </tr>\n    <tr>\n      <th>3</th>\n      <td>4</td>\n      <td>texto aleat\u00f3rio processo n\u00famero 0264 de 02/03/...</td>\n      <td>http://www.justica.jus.br/procno0264</td>\n      <td>2</td>\n      <td>1</td>\n      <td>1</td>\n      <td>2</td>\n      <td>0</td>\n      <td>1</td>\n      <td>1</td>\n      <td>1</td>\n      <td>3</td>\n      <td>1</td>\n      <td>2</td>\n    </tr>\n    <tr>\n      <th>4</th>\n      <td>5</td>\n      <td>texto aleat\u00f3rio processo n\u00famero 0655 de 07/11/...</td>\n      <td>http://www.justica.jus.br/procno0655</td>\n      <td>0</td>\n      <td>2</td>\n      <td>0</td>\n      <td>1</td>\n      <td>1</td>\n      <td>0</td>\n      <td>2</td>\n      <td>3</td>\n      <td>2</td>\n      <td>0</td>\n      <td>3</td>\n    </tr>\n  </tbody>\n</table>\n</div>", 
                        "text/plain": "   ID                                              TEXTO  \\\n0   1  texto aleat\u00f3rio processo n\u00famero 0504 de 25/07/...   \n1   2  texto aleat\u00f3rio processo n\u00famero 0518 de 02/01/...   \n2   3  texto aleat\u00f3rio processo n\u00famero 0258 de 22/09/...   \n3   4  texto aleat\u00f3rio processo n\u00famero 0264 de 02/03/...   \n4   5  texto aleat\u00f3rio processo n\u00famero 0655 de 07/11/...   \n\n                                   LINK  ATR1  ATR2  ATR3  ATR4  ATR5  ATR6  \\\n0  http://www.justica.jus.br/procno0504     2     1     2     1     3     1   \n1  http://www.justica.jus.br/procno0518     0     1     0     1     2     3   \n2  http://www.justica.jus.br/procno0258     0     2     3     0     1     2   \n3  http://www.justica.jus.br/procno0264     2     1     1     2     0     1   \n4  http://www.justica.jus.br/procno0655     0     2     0     1     1     0   \n\n   ATR7  ATR8  ATR9  ATR10  LABEL  \n0     1     2     0      2      4  \n1     0     3     3      2      4  \n2     3     0     1      3      1  \n3     1     1     3      1      2  \n4     2     3     2      0      3  "
                    }, 
                    "output_type": "execute_result"
                }
            ], 
            "source": "# The code was removed by DSX for sharing."
        }, 
        {
            "source": "A estrutura acima ainda \u00e9 apenas a proposta. Como texto, dever\u00e1 ser armazenado o conte\u00fado completo do documento; as colunas de atributos, que poder\u00e3o ser em maior ou menor quantidade que as mostradas aqui, dever\u00e3o ser automaticamente calculadas; a coluna de label, dever\u00e1 ser atribu\u00edda manualmente na fase de treinamento, e calculada na fase de testes/produ\u00e7\u00e3o.", 
            "cell_type": "markdown", 
            "metadata": {}
        }, 
        {
            "source": "id\u00e9ias propostas a seguir para colocar aqui :\n- utilizar um modelo de deep learning aprendido no curso\n    ", 
            "cell_type": "markdown", 
            "metadata": {}
        }, 
        {
            "execution_count": null, 
            "cell_type": "code", 
            "metadata": {}, 
            "outputs": [], 
            "source": ""
        }
    ], 
    "metadata": {
        "kernelspec": {
            "display_name": "Python 3.5", 
            "name": "python3", 
            "language": "python"
        }, 
        "language_info": {
            "mimetype": "text/x-python", 
            "nbconvert_exporter": "python", 
            "version": "3.5.4", 
            "name": "python", 
            "file_extension": ".py", 
            "pygments_lexer": "ipython3", 
            "codemirror_mode": {
                "version": 3, 
                "name": "ipython"
            }
        }
    }, 
    "nbformat": 4
}